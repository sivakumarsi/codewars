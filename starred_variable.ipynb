{
 "cells": [
  {
   "cell_type": "code",
   "execution_count": 3,
   "metadata": {},
   "outputs": [
    {
     "data": {
      "text/plain": [
       "'Write a function that accepts an array of 10 integers (between 0 and 9), \\nthat returns a string of those numbers in the form of a phone number.'"
      ]
     },
     "execution_count": 3,
     "metadata": {},
     "output_type": "execute_result"
    }
   ],
   "source": ["tomato"]
    },
  {
   "cell_type": "code",
   "execution_count": 35,
   "metadata": {},
   "outputs": [
    {
     "data": {
      "text/plain": [
       "'(123) 456-7890'"
      ]
     },
     "execution_count": 35,
     "metadata": {},
     "output_type": "execute_result"
    }
   ],
   "source": [
    "def create_phone_number(n):\n",
    "    m = \"\".join(str(x) for x in n)\n",
    "    return(f\"({m[0:3]}) {m[3:6]}-{m[6:]}\")\n",
    "    \n",
    "create_phone_number([1, 2, 3, 4, 5, 6, 7, 8, 9, 0])\n"
   ]
  },
  {
   "cell_type": "code",
   "execution_count": 37,
   "metadata": {},
   "outputs": [
    {
     "data": {
      "text/plain": [
       "'(123) 456-7890'"
      ]
     },
     "execution_count": 37,
     "metadata": {},
     "output_type": "execute_result"
    }
   ],
   "source": [
    "def create_phone_number(n):\n",
    "    return \"({}{}{}) {}{}{}-{}{}{}{}\".format(*n)\n",
    "create_phone_number([1, 2, 3, 4, 5, 6, 7, 8, 9, 0])"
   ]
  },
  {
   "cell_type": "code",
   "execution_count": null,
   "metadata": {},
   "outputs": [],
   "source": [
    "For the purposes of unpacking only, the following substitutions are valid on the right side of the = (i.e. for rvalues):\n",
    "\n",
    "'XY' -> ('X', 'Y')\n",
    "['X', 'Y'] -> ('X', 'Y')\n",
    "If you find that a value doesn't get unpacked, then you'll undo the substitution. (See below for further explanation.)\n",
    "\n",
    "Also, when you see \"naked\" commas, pretend there's a top-level tuple. Do this on both the left and the right side (i.e. for lvalues and rvalues):\n",
    "\n",
    "'X', 'Y' -> ('X', 'Y')\n",
    "a, b -> (a, b)\n",
    "With those simple rules in mind, here are some examples:\n",
    "\n",
    "(a,b), c = \"XY\", \"Z\"                 # a = 'X', b = 'Y', c = 'Z'\n",
    "Applying the above rules, we convert \"XY\" to ('X', 'Y'), and cover the naked commas in parens:\n",
    "\n",
    "((a, b), c) = (('X', 'Y'), 'Z')\n",
    "The visual correspondence here makes it fairly obvious how the assignment works.\n",
    "\n",
    "Here's an erroneous example:\n",
    "\n",
    "(a,b), c = \"XYZ\"\n",
    "Following the above substitution rules, we get the below:\n",
    "\n",
    "((a, b), c) = ('X', 'Y', 'Z')\n",
    "This is clearly erroneous; the nested structures don't match up. Now let's see how it works for a slightly more complex example:\n",
    "\n",
    "(a,b), c, = [1,2],'this'             # a = '1', b = '2', c = 'this'\n",
    "Applying the above rules, we get\n",
    "\n",
    "((a, b), c) = ((1, 2), ('t', 'h', 'i', 's'))\n",
    "But now it's clear from the structure that 'this' won't be unpacked, but assigned directly to c. So we undo the substitution.\n",
    "\n",
    "((a, b), c) = ((1, 2), 'this')\n",
    "Now let's see what happens when we wrap c in a tuple:\n",
    "\n",
    "(a,b), (c,) = [1,2],'this'           # ERROR -- too many values to unpack\n",
    "Becomes\n",
    "\n",
    "((a, b), (c,)) = ((1, 2), ('t', 'h', 'i', 's'))\n",
    "Again, the error is obvious. c is no longer a naked variable, but a variable inside a sequence, and so the corresponding sequence on the right is unpacked into (c,). But the sequences have a different length, so there's an error.\n",
    "\n",
    "Now for extended unpacking using the * operator. This is a bit more complex, but it's still fairly straightforward. A variable preceded by * becomes a list, which contains any items from the corresponding sequence that aren't assigned to variable names. Starting with a fairly simple example:\n",
    "\n",
    "a, *b, c = \"X...Y\"                   # a = 'X', b = ['.','.','.'], c = 'Y'\n",
    "This becomes\n",
    "\n",
    "(a, *b, c) = ('X', '.', '.', '.', 'Y')\n",
    "The simplest way to analyze this is to work from the ends. 'X' is assigned to a and 'Y' is assigned to c. The remaining values in the sequence are put in a list and assigned to b.\n",
    "\n",
    "Lvalues like (*a, b) and (a, *b) are just special cases of the above. You can't have two * operators inside one lvalue sequence because it would be ambiguous. Where would the values go in something like this (a, *b, *c, d) -- in b or c? I'll consider the nested case in a moment.\n",
    "\n",
    "*a = 1                               # ERROR -- target must be in a list or tuple\n",
    "Here the error is fairly self-explanatory. The target (*a) must be in a tuple.\n",
    "\n",
    "*a, = (1,2)                          # a = [1,2]\n",
    "This works because there's a naked comma. Applying the rules...\n",
    "\n",
    "(*a,) = (1, 2)\n",
    "Since there are no variables other than *a, *a slurps up all the values in the rvalue sequence. What if you replace the (1, 2) with a single value?\n",
    "\n",
    "*a, = 1                              # ERROR -- 'int' object is not iterable\n",
    "becomes\n",
    "\n",
    "(*a,) = 1\n",
    "Again, the error here is self-explanatory. You can't unpack something that isn't a sequence, and *a needs something to unpack. So we put it in a sequence\n",
    "\n",
    "*a, = [1]                            # a = [1]\n",
    "Which is eqivalent to\n",
    "\n",
    "(*a,) = (1,)\n",
    "Finally, this is a common point of confusion: (1) is the same as 1 -- you need a comma to distinguish a tuple from an arithmetic statement.\n",
    "\n",
    "*a, = (1)                            # ERROR -- 'int' object is not \n",
    "Now for nesting. Actually this example wasn't in your \"NESTED\" section; perhaps you didn't realize it was nested?\n",
    "\n",
    "(a,b), *c = 'XY', 2, 3               # a = 'X', b = 'Y', c = [2,3]\n",
    "Becomes\n",
    "\n",
    "((a, b), *c) = (('X', 'Y'), 2, 3)\n",
    "The first value in the top-level tuple gets assigned, and the remaining values in the top-level tuple (2 and 3) are assigned to c -- just as we should expect.\n",
    "\n",
    "(a,b),c = 1,2,3                      # ERROR -- too many values to unpack\n",
    "*(a,b), c = 1,2,3                    # a = 1, b = 2, c = 3\n",
    "I've already explained above why the first line throws an error. The second line is silly but here's why it works:\n",
    "\n",
    "(*(a, b), c) = (1, 2, 3)\n",
    "As previously explained, we work from the ends. 3 is assigned to c, and then the remaining values are assigned to the variable with the * preceding it, in this case, (a, b). So that's equivalent to (a, b) = (1, 2), which happens to work because there are the right number of elements. I can't think of any reason this would ever appear in working code. Similarly,\n",
    "\n",
    "*(a, *b), c = 'this'                 # a = 't', b = ['h', 'i'], c = 's'\n",
    "becomes\n",
    "\n",
    "(*(a, *b), c) = ('t', 'h', 'i', 's')\n",
    "Working from the ends, 's' is assigned to c, and ('t', 'h', 'i') is assigned to (a, *b). Working again from the ends, 't' is assigned to a, and ('h', 'i') is assigned to b as a list. This is another silly example that should never appear in working code."
   ]
  }
 ],
 "metadata": {
  "kernelspec": {
   "display_name": "Python 3",
   "language": "python",
   "name": "python3"
  },
  "language_info": {
   "codemirror_mode": {
    "name": "ipython",
    "version": 3
   },
   "file_extension": ".py",
   "mimetype": "text/x-python",
   "name": "python",
   "nbconvert_exporter": "python",
   "pygments_lexer": "ipython3",
   "version": "3.7.0"
  }
 },
 "nbformat": 4,
 "nbformat_minor": 2
}
